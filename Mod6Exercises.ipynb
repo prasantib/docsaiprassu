{
 "cells": [
  {
   "cell_type": "markdown",
   "metadata": {},
   "source": [
    "# Module 6 Exercises - Correlation and Models"
   ]
  },
  {
   "cell_type": "markdown",
   "metadata": {},
   "source": [
    "### Exercise 1:\n",
    "\n",
    "From the datasets folder, load the \"tamiami.csv\" file as a dataframe. Rename the columns (in order) to the following:\n",
    "\n",
    "- location\n",
    "- sales\n",
    "- employees\n",
    "- restaurants\n",
    "- foodcarts\n",
    "- price\n",
    "\n",
    "Then do a correlation table on that dataframe. What features (columns) are correlated? What features aren't correlated?"
   ]
  },
  {
   "cell_type": "code",
   "execution_count": 12,
   "metadata": {},
   "outputs": [],
   "source": [
    "import pandas as pd\n",
    "import numpy as np\n",
    "\n",
    "Location = \"datasets/tamiami.csv\"\n",
    "df = pd.read_csv(Location)"
   ]
  },
  {
   "cell_type": "code",
   "execution_count": 13,
   "metadata": {},
   "outputs": [],
   "source": [
    "df.rename(columns={'Cart Location': 'location'}, inplace =True)\n",
    "df.rename(columns={'Hot Dog Sales': 'sales'}, inplace =True)\n",
    "df.rename(columns={'Employees in Nearby Office Buildings': 'employees'}, inplace =True)\n",
    "df.rename(columns={'Num of Nearby Restaurants': 'restaurants'}, inplace =True)\n",
    "df.rename(columns={'Num of Other Food Carts Nearby': 'foodcarts'}, inplace =True)\n",
    "df.rename(columns={'Price': 'price'}, inplace =True)"
   ]
  },
  {
   "cell_type": "code",
   "execution_count": 14,
   "metadata": {},
   "outputs": [
    {
     "data": {
      "text/html": [
       "<div>\n",
       "<style scoped>\n",
       "    .dataframe tbody tr th:only-of-type {\n",
       "        vertical-align: middle;\n",
       "    }\n",
       "\n",
       "    .dataframe tbody tr th {\n",
       "        vertical-align: top;\n",
       "    }\n",
       "\n",
       "    .dataframe thead th {\n",
       "        text-align: right;\n",
       "    }\n",
       "</style>\n",
       "<table border=\"1\" class=\"dataframe\">\n",
       "  <thead>\n",
       "    <tr style=\"text-align: right;\">\n",
       "      <th></th>\n",
       "      <th>location</th>\n",
       "      <th>sales</th>\n",
       "      <th>employees</th>\n",
       "      <th>restaurants</th>\n",
       "      <th>foodcarts</th>\n",
       "      <th>price</th>\n",
       "    </tr>\n",
       "  </thead>\n",
       "  <tbody>\n",
       "    <tr>\n",
       "      <th>location</th>\n",
       "      <td>1.000000</td>\n",
       "      <td>0.042705</td>\n",
       "      <td>-0.068923</td>\n",
       "      <td>0.049701</td>\n",
       "      <td>0.077219</td>\n",
       "      <td>-0.138444</td>\n",
       "    </tr>\n",
       "    <tr>\n",
       "      <th>sales</th>\n",
       "      <td>0.042705</td>\n",
       "      <td>1.000000</td>\n",
       "      <td>0.943238</td>\n",
       "      <td>0.913674</td>\n",
       "      <td>-0.919762</td>\n",
       "      <td>-0.966378</td>\n",
       "    </tr>\n",
       "    <tr>\n",
       "      <th>employees</th>\n",
       "      <td>-0.068923</td>\n",
       "      <td>0.943238</td>\n",
       "      <td>1.000000</td>\n",
       "      <td>0.856976</td>\n",
       "      <td>-0.874692</td>\n",
       "      <td>-0.881540</td>\n",
       "    </tr>\n",
       "    <tr>\n",
       "      <th>restaurants</th>\n",
       "      <td>0.049701</td>\n",
       "      <td>0.913674</td>\n",
       "      <td>0.856976</td>\n",
       "      <td>1.000000</td>\n",
       "      <td>-0.761793</td>\n",
       "      <td>-0.933951</td>\n",
       "    </tr>\n",
       "    <tr>\n",
       "      <th>foodcarts</th>\n",
       "      <td>0.077219</td>\n",
       "      <td>-0.919762</td>\n",
       "      <td>-0.874692</td>\n",
       "      <td>-0.761793</td>\n",
       "      <td>1.000000</td>\n",
       "      <td>0.860154</td>\n",
       "    </tr>\n",
       "    <tr>\n",
       "      <th>price</th>\n",
       "      <td>-0.138444</td>\n",
       "      <td>-0.966378</td>\n",
       "      <td>-0.881540</td>\n",
       "      <td>-0.933951</td>\n",
       "      <td>0.860154</td>\n",
       "      <td>1.000000</td>\n",
       "    </tr>\n",
       "  </tbody>\n",
       "</table>\n",
       "</div>"
      ],
      "text/plain": [
       "             location     sales  employees  restaurants  foodcarts     price\n",
       "location     1.000000  0.042705  -0.068923     0.049701   0.077219 -0.138444\n",
       "sales        0.042705  1.000000   0.943238     0.913674  -0.919762 -0.966378\n",
       "employees   -0.068923  0.943238   1.000000     0.856976  -0.874692 -0.881540\n",
       "restaurants  0.049701  0.913674   0.856976     1.000000  -0.761793 -0.933951\n",
       "foodcarts    0.077219 -0.919762  -0.874692    -0.761793   1.000000  0.860154\n",
       "price       -0.138444 -0.966378  -0.881540    -0.933951   0.860154  1.000000"
      ]
     },
     "execution_count": 14,
     "metadata": {},
     "output_type": "execute_result"
    }
   ],
   "source": [
    "df.corr()\n",
    "#Location and sales are positively correlated because they are both positive 1. Sales and price are negatively correlated because they are negative and are less than 1. "
   ]
  },
  {
   "cell_type": "markdown",
   "metadata": {},
   "source": [
    "### Exercise 2:\n",
    "\n",
    "Using the dataframe from the previous exercise, choose features (columns) to create a linear regression formula to predict sales. Try it with and without the y-intercept. How does it make a difference? Does adding or removing features in your model formula make a difference in the output?"
   ]
  },
  {
   "cell_type": "code",
   "execution_count": 15,
   "metadata": {},
   "outputs": [
    {
     "data": {
      "text/html": [
       "<table class=\"simpletable\">\n",
       "<caption>OLS Regression Results</caption>\n",
       "<tr>\n",
       "  <th>Dep. Variable:</th>          <td>sales</td>      <th>  R-squared:         </th> <td>   0.972</td>\n",
       "</tr>\n",
       "<tr>\n",
       "  <th>Model:</th>                   <td>OLS</td>       <th>  Adj. R-squared:    </th> <td>   0.968</td>\n",
       "</tr>\n",
       "<tr>\n",
       "  <th>Method:</th>             <td>Least Squares</td>  <th>  F-statistic:       </th> <td>   295.6</td>\n",
       "</tr>\n",
       "<tr>\n",
       "  <th>Date:</th>             <td>Tue, 20 Aug 2019</td> <th>  Prob (F-statistic):</th> <td>3.35e-20</td>\n",
       "</tr>\n",
       "<tr>\n",
       "  <th>Time:</th>                 <td>16:39:18</td>     <th>  Log-Likelihood:    </th> <td> -143.82</td>\n",
       "</tr>\n",
       "<tr>\n",
       "  <th>No. Observations:</th>      <td>    30</td>      <th>  AIC:               </th> <td>   295.6</td>\n",
       "</tr>\n",
       "<tr>\n",
       "  <th>Df Residuals:</th>          <td>    26</td>      <th>  BIC:               </th> <td>   301.2</td>\n",
       "</tr>\n",
       "<tr>\n",
       "  <th>Df Model:</th>              <td>     3</td>      <th>                     </th>     <td> </td>   \n",
       "</tr>\n",
       "<tr>\n",
       "  <th>Covariance Type:</th>      <td>nonrobust</td>    <th>                     </th>     <td> </td>   \n",
       "</tr>\n",
       "</table>\n",
       "<table class=\"simpletable\">\n",
       "<tr>\n",
       "      <td></td>         <th>coef</th>     <th>std err</th>      <th>t</th>      <th>P>|t|</th>  <th>[0.025</th>    <th>0.975]</th>  \n",
       "</tr>\n",
       "<tr>\n",
       "  <th>Intercept</th> <td>  268.1488</td> <td>   57.310</td> <td>    4.679</td> <td> 0.000</td> <td>  150.346</td> <td>  385.951</td>\n",
       "</tr>\n",
       "<tr>\n",
       "  <th>location</th>  <td>   -0.3140</td> <td>    0.732</td> <td>   -0.429</td> <td> 0.672</td> <td>   -1.820</td> <td>    1.191</td>\n",
       "</tr>\n",
       "<tr>\n",
       "  <th>price</th>     <td>  -67.3533</td> <td>    8.416</td> <td>   -8.003</td> <td> 0.000</td> <td>  -84.653</td> <td>  -50.054</td>\n",
       "</tr>\n",
       "<tr>\n",
       "  <th>employees</th> <td>    0.0805</td> <td>    0.016</td> <td>    5.160</td> <td> 0.000</td> <td>    0.048</td> <td>    0.113</td>\n",
       "</tr>\n",
       "</table>\n",
       "<table class=\"simpletable\">\n",
       "<tr>\n",
       "  <th>Omnibus:</th>       <td> 0.015</td> <th>  Durbin-Watson:     </th> <td>   2.482</td>\n",
       "</tr>\n",
       "<tr>\n",
       "  <th>Prob(Omnibus):</th> <td> 0.993</td> <th>  Jarque-Bera (JB):  </th> <td>   0.192</td>\n",
       "</tr>\n",
       "<tr>\n",
       "  <th>Skew:</th>          <td> 0.031</td> <th>  Prob(JB):          </th> <td>   0.909</td>\n",
       "</tr>\n",
       "<tr>\n",
       "  <th>Kurtosis:</th>      <td> 2.613</td> <th>  Cond. No.          </th> <td>2.22e+04</td>\n",
       "</tr>\n",
       "</table><br/><br/>Warnings:<br/>[1] Standard Errors assume that the covariance matrix of the errors is correctly specified.<br/>[2] The condition number is large, 2.22e+04. This might indicate that there are<br/>strong multicollinearity or other numerical problems."
      ],
      "text/plain": [
       "<class 'statsmodels.iolib.summary.Summary'>\n",
       "\"\"\"\n",
       "                            OLS Regression Results                            \n",
       "==============================================================================\n",
       "Dep. Variable:                  sales   R-squared:                       0.972\n",
       "Model:                            OLS   Adj. R-squared:                  0.968\n",
       "Method:                 Least Squares   F-statistic:                     295.6\n",
       "Date:                Tue, 20 Aug 2019   Prob (F-statistic):           3.35e-20\n",
       "Time:                        16:39:18   Log-Likelihood:                -143.82\n",
       "No. Observations:                  30   AIC:                             295.6\n",
       "Df Residuals:                      26   BIC:                             301.2\n",
       "Df Model:                           3                                         \n",
       "Covariance Type:            nonrobust                                         \n",
       "==============================================================================\n",
       "                 coef    std err          t      P>|t|      [0.025      0.975]\n",
       "------------------------------------------------------------------------------\n",
       "Intercept    268.1488     57.310      4.679      0.000     150.346     385.951\n",
       "location      -0.3140      0.732     -0.429      0.672      -1.820       1.191\n",
       "price        -67.3533      8.416     -8.003      0.000     -84.653     -50.054\n",
       "employees      0.0805      0.016      5.160      0.000       0.048       0.113\n",
       "==============================================================================\n",
       "Omnibus:                        0.015   Durbin-Watson:                   2.482\n",
       "Prob(Omnibus):                  0.993   Jarque-Bera (JB):                0.192\n",
       "Skew:                           0.031   Prob(JB):                        0.909\n",
       "Kurtosis:                       2.613   Cond. No.                     2.22e+04\n",
       "==============================================================================\n",
       "\n",
       "Warnings:\n",
       "[1] Standard Errors assume that the covariance matrix of the errors is correctly specified.\n",
       "[2] The condition number is large, 2.22e+04. This might indicate that there are\n",
       "strong multicollinearity or other numerical problems.\n",
       "\"\"\""
      ]
     },
     "execution_count": 15,
     "metadata": {},
     "output_type": "execute_result"
    }
   ],
   "source": [
    "import statsmodels.formula.api as smf\n",
    "result = smf.ols('sales ~ location + price + employees', data=df).fit()\n",
    "result.summary()"
   ]
  },
  {
   "cell_type": "code",
   "execution_count": null,
   "metadata": {},
   "outputs": [],
   "source": [
    "#Adding and removing features from the model formula does make a difference because its affect the data according to the feautres that have been associated to sales.  "
   ]
  }
 ],
 "metadata": {
  "kernelspec": {
   "display_name": "Python 3",
   "language": "python",
   "name": "python3"
  },
  "language_info": {
   "codemirror_mode": {
    "name": "ipython",
    "version": 3
   },
   "file_extension": ".py",
   "mimetype": "text/x-python",
   "name": "python",
   "nbconvert_exporter": "python",
   "pygments_lexer": "ipython3",
   "version": "3.7.3"
  }
 },
 "nbformat": 4,
 "nbformat_minor": 2
}
