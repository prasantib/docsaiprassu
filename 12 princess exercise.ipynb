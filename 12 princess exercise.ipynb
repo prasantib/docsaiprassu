{
 "cells": [
  {
   "cell_type": "code",
   "execution_count": 1,
   "metadata": {},
   "outputs": [],
   "source": [
    "import pandas as pd\n",
    "\n",
    "import nltk\n",
    "from nltk.tokenize import word_tokenize\n",
    "from nltk.probability import FreqDist\n",
    "from nltk.corpus import stopwords\n",
    "\n",
    "from string import punctuation"
   ]
  },
  {
   "cell_type": "code",
   "execution_count": 2,
   "metadata": {},
   "outputs": [],
   "source": [
    "filepath = \"12dancingprincesses.txt\"\n",
    "\n",
    "with open(filepath) as file:\n",
    "    \n",
    "    #empty string to hold text\n",
    "    text = \"\"\n",
    "    \n",
    "    #for each line in the file\n",
    "    for line in file:\n",
    "        \n",
    "        #strip the newline character from the line\n",
    "        clean_line = line.strip()\n",
    "        \n",
    "        #if there was only a newline character in a line, then the clean_line is blank\n",
    "        #skip the blank line\n",
    "        if clean_line == \"\": pass\n",
    "        \n",
    "        else:\n",
    "            #make the line lowercase\n",
    "            lower_line = clean_line.lower()\n",
    "            \n",
    "            #add the line to the string with a space (to separate it from the next line in the text)\n",
    "            text += lower_line + \" \""
   ]
  },
  {
   "cell_type": "code",
   "execution_count": 3,
   "metadata": {},
   "outputs": [
    {
     "data": {
      "text/plain": [
       "'the twelve dancing princesses there was a king who had twelve beautiful daughters. they slept in twelve beds all in one room; and when they went to bed, the doors were shut and locked up; but every morning their shoes were found to be quite worn through as if they had been danced in all night; and yet nobody could find out how it happened, or where they had been. then the king made it known to all the land, that if any person could discover the secret, and find out where it was that the princesses danced in the night, he should have the one he liked best for his wife, and should be king after his death; but whoever tried and did not succeed, after three days and nights, should be put to death. a king’s son soon came. he was well entertained, and in the evening was taken to the chamber next to the one where the princesses lay in their twelve beds. there he was to sit and watch where they went to dance; and, in order that nothing might pass without his hearing it, the door of his chamber was left open. but the king’s son soon fell asleep; and when he awoke in the morning he found that the princesses had all been dancing, for the soles of their shoes were full of holes. the same thing happened the second and third night: so the king ordered his head to be cut off. after him came several others; but they had all the same luck, and all lost their lives in the same manner. now it chanced that an old soldier, who had been wounded in battle and could fight no longer, passed through the country where this king reigned: and as he was travelling through a wood, he met an old woman, who asked him where he was going. ‘i hardly know where i am going, or what i had better do,’ said the soldier; ‘but i think i should like very well to find out where it is that the princesses dance, and then in time i might be a king.’ ‘well,’ said the old dame, ‘that is no very hard task: only take care not to drink any of the wine which one of the princesses will bring to you in the evening; and as soon as she leaves you pretend to be fast asleep.’ then she gave him a cloak, and said, ‘as soon as you put that on you will become invisible, and you will then be able to follow the princesses wherever they go.’ when the soldier heard all this good counsel, he determined to try his luck: so he went to the king, and said he was willing to undertake the task. he was as well received as the others had been, and the king ordered fine royal robes to be given him; and when the evening came he was led to the outer chamber. just as he was going to lie down, the eldest of the princesses brought him a cup of wine; but the soldier threw it all away secretly, taking care not to drink a drop. then he laid himself down on his bed, and in a little while began to snore very loud as if he was fast asleep. when the twelve princesses heard this they laughed heartily; and the eldest said, ‘this fellow too might have done a wiser thing than lose his life in this way!’ then they rose up and opened their drawers and boxes, and took out all their fine clothes, and dressed themselves at the glass, and skipped about as if they were eager to begin dancing. but the youngest said, ‘i don’t know how it is, while you are so happy i feel very uneasy; i am sure some mischance will befall us.’ ‘you simpleton,’ said the eldest, ‘you are always afraid; have you forgotten how many kings’ sons have already watched in vain? and as for this soldier, even if i had not given him his sleeping draught, he would have slept soundly enough.’ when they were all ready, they went and looked at the soldier; but he snored on, and did not stir hand or foot: so they thought they were quite safe; and the eldest went up to her own bed and clapped her hands, and the bed sank into the floor and a trap-door flew open. the soldier saw them going down through the trap-door one after another, the eldest leading the way; and thinking he had no time to lose, he jumped up, put on the cloak which the old woman had given him, and followed them; but in the middle of the stairs he trod on the gown of the youngest princess, and she cried out to her sisters, ‘all is not right; someone took hold of my gown.’ ‘you silly creature!’ said the eldest, ‘it is nothing but a nail in the wall.’ then down they all went, and at the bottom they found themselves in a most delightful grove of trees; and the leaves were all of silver, and glittered and sparkled beautifully. the soldier wished to take away some token of the place; so he broke off a little branch, and there came a loud noise from the tree. then the youngest daughter said again, ‘i am sure all is not right--did not you hear that noise? that never happened before.’ but the eldest said, ‘it is only our princes, who are shouting for joy at our approach.’ then they came to another grove of trees, where all the leaves were of gold; and afterwards to a third, where the leaves were all glittering diamonds. and the soldier broke a branch from each; and every time there was a loud noise, which made the youngest sister tremble with fear; but the eldest still said, it was only the princes, who were crying for joy. so they went on till they came to a great lake; and at the side of the lake there lay twelve little boats with twelve handsome princes in them, who seemed to be waiting there for the princesses. one of the princesses went into each boat, and the soldier stepped into the same boat with the youngest. as they were rowing over the lake, the prince who was in the boat with the youngest princess and the soldier said, ‘i do not know why it is, but though i am rowing with all my might we do not get on so fast as usual, and i am quite tired: the boat seems very heavy today.’ ‘it is only the heat of the weather,’ said the princess: ‘i feel it very warm too.’ on the other side of the lake stood a fine illuminated castle, from which came the merry music of horns and trumpets. there they all landed, and went into the castle, and each prince danced with his princess; and the soldier, who was all the time invisible, danced with them too; and when any of the princesses had a cup of wine set by her, he drank it all up, so that when she put the cup to her mouth it was empty. at this, too, the youngest sister was terribly frightened, but the eldest always silenced her. they danced on till three o’clock in the morning, and then all their shoes were worn out, so that they were obliged to leave off. the princes rowed them back again over the lake (but this time the soldier placed himself in the boat with the eldest princess); and on the opposite shore they took leave of each other, the princesses promising to come again the next night. when they came to the stairs, the soldier ran on before the princesses, and laid himself down; and as the twelve sisters slowly came up very much tired, they heard him snoring in his bed; so they said, ‘now all is quite safe’; then they undressed themselves, put away their fine clothes, pulled off their shoes, and went to bed. in the morning the soldier said nothing about what had happened, but determined to see more of this strange adventure, and went again the second and third night; and every thing happened just as before; the princesses danced each time till their shoes were worn to pieces, and then returned home. however, on the third night the soldier carried away one of the golden cups as a token of where he had been. as soon as the time came when he was to declare the secret, he was taken before the king with the three branches and the golden cup; and the twelve princesses stood listening behind the door to hear what he would say. and when the king asked him. ‘where do my twelve daughters dance at night?’ he answered, ‘with twelve princes in a castle under ground.’ and then he told the king all that had happened, and showed him the three branches and the golden cup which he had brought with him. then the king called for the princesses, and asked them whether what the soldier said was true: and when they saw that they were discovered, and that it was of no use to deny what had happened, they confessed it all. and the king asked the soldier which of them he would choose for his wife; and he answered, ‘i am not very young, so i will have the eldest.’--and they were married that very day, and the soldier was chosen to be the king’s heir. '"
      ]
     },
     "execution_count": 3,
     "metadata": {},
     "output_type": "execute_result"
    }
   ],
   "source": [
    "text"
   ]
  },
  {
   "cell_type": "code",
   "execution_count": 5,
   "metadata": {},
   "outputs": [],
   "source": [
    "table = str.maketrans({key: None for key in punctuation + \"‘\" + \"’\"})"
   ]
  },
  {
   "cell_type": "code",
   "execution_count": 6,
   "metadata": {},
   "outputs": [
    {
     "data": {
      "text/plain": [
       "'the twelve dancing princesses there was a king who had twelve beautiful daughters they slept in twelve beds all in one room and when they went to bed the doors were shut and locked up but every morning their shoes were found to be quite worn through as if they had been danced in all night and yet nobody could find out how it happened or where they had been then the king made it known to all the land that if any person could discover the secret and find out where it was that the princesses danced in the night he should have the one he liked best for his wife and should be king after his death but whoever tried and did not succeed after three days and nights should be put to death a kings son soon came he was well entertained and in the evening was taken to the chamber next to the one where the princesses lay in their twelve beds there he was to sit and watch where they went to dance and in order that nothing might pass without his hearing it the door of his chamber was left open but the kings son soon fell asleep and when he awoke in the morning he found that the princesses had all been dancing for the soles of their shoes were full of holes the same thing happened the second and third night so the king ordered his head to be cut off after him came several others but they had all the same luck and all lost their lives in the same manner now it chanced that an old soldier who had been wounded in battle and could fight no longer passed through the country where this king reigned and as he was travelling through a wood he met an old woman who asked him where he was going i hardly know where i am going or what i had better do said the soldier but i think i should like very well to find out where it is that the princesses dance and then in time i might be a king well said the old dame that is no very hard task only take care not to drink any of the wine which one of the princesses will bring to you in the evening and as soon as she leaves you pretend to be fast asleep then she gave him a cloak and said as soon as you put that on you will become invisible and you will then be able to follow the princesses wherever they go when the soldier heard all this good counsel he determined to try his luck so he went to the king and said he was willing to undertake the task he was as well received as the others had been and the king ordered fine royal robes to be given him and when the evening came he was led to the outer chamber just as he was going to lie down the eldest of the princesses brought him a cup of wine but the soldier threw it all away secretly taking care not to drink a drop then he laid himself down on his bed and in a little while began to snore very loud as if he was fast asleep when the twelve princesses heard this they laughed heartily and the eldest said this fellow too might have done a wiser thing than lose his life in this way then they rose up and opened their drawers and boxes and took out all their fine clothes and dressed themselves at the glass and skipped about as if they were eager to begin dancing but the youngest said i dont know how it is while you are so happy i feel very uneasy i am sure some mischance will befall us you simpleton said the eldest you are always afraid have you forgotten how many kings sons have already watched in vain and as for this soldier even if i had not given him his sleeping draught he would have slept soundly enough when they were all ready they went and looked at the soldier but he snored on and did not stir hand or foot so they thought they were quite safe and the eldest went up to her own bed and clapped her hands and the bed sank into the floor and a trapdoor flew open the soldier saw them going down through the trapdoor one after another the eldest leading the way and thinking he had no time to lose he jumped up put on the cloak which the old woman had given him and followed them but in the middle of the stairs he trod on the gown of the youngest princess and she cried out to her sisters all is not right someone took hold of my gown you silly creature said the eldest it is nothing but a nail in the wall then down they all went and at the bottom they found themselves in a most delightful grove of trees and the leaves were all of silver and glittered and sparkled beautifully the soldier wished to take away some token of the place so he broke off a little branch and there came a loud noise from the tree then the youngest daughter said again i am sure all is not rightdid not you hear that noise that never happened before but the eldest said it is only our princes who are shouting for joy at our approach then they came to another grove of trees where all the leaves were of gold and afterwards to a third where the leaves were all glittering diamonds and the soldier broke a branch from each and every time there was a loud noise which made the youngest sister tremble with fear but the eldest still said it was only the princes who were crying for joy so they went on till they came to a great lake and at the side of the lake there lay twelve little boats with twelve handsome princes in them who seemed to be waiting there for the princesses one of the princesses went into each boat and the soldier stepped into the same boat with the youngest as they were rowing over the lake the prince who was in the boat with the youngest princess and the soldier said i do not know why it is but though i am rowing with all my might we do not get on so fast as usual and i am quite tired the boat seems very heavy today it is only the heat of the weather said the princess i feel it very warm too on the other side of the lake stood a fine illuminated castle from which came the merry music of horns and trumpets there they all landed and went into the castle and each prince danced with his princess and the soldier who was all the time invisible danced with them too and when any of the princesses had a cup of wine set by her he drank it all up so that when she put the cup to her mouth it was empty at this too the youngest sister was terribly frightened but the eldest always silenced her they danced on till three oclock in the morning and then all their shoes were worn out so that they were obliged to leave off the princes rowed them back again over the lake but this time the soldier placed himself in the boat with the eldest princess and on the opposite shore they took leave of each other the princesses promising to come again the next night when they came to the stairs the soldier ran on before the princesses and laid himself down and as the twelve sisters slowly came up very much tired they heard him snoring in his bed so they said now all is quite safe then they undressed themselves put away their fine clothes pulled off their shoes and went to bed in the morning the soldier said nothing about what had happened but determined to see more of this strange adventure and went again the second and third night and every thing happened just as before the princesses danced each time till their shoes were worn to pieces and then returned home however on the third night the soldier carried away one of the golden cups as a token of where he had been as soon as the time came when he was to declare the secret he was taken before the king with the three branches and the golden cup and the twelve princesses stood listening behind the door to hear what he would say and when the king asked him where do my twelve daughters dance at night he answered with twelve princes in a castle under ground and then he told the king all that had happened and showed him the three branches and the golden cup which he had brought with him then the king called for the princesses and asked them whether what the soldier said was true and when they saw that they were discovered and that it was of no use to deny what had happened they confessed it all and the king asked the soldier which of them he would choose for his wife and he answered i am not very young so i will have the eldestand they were married that very day and the soldier was chosen to be the kings heir '"
      ]
     },
     "execution_count": 6,
     "metadata": {},
     "output_type": "execute_result"
    }
   ],
   "source": [
    "nopunct_str = text.translate(table)\n",
    "\n",
    "nopunct_str"
   ]
  },
  {
   "cell_type": "code",
   "execution_count": 7,
   "metadata": {},
   "outputs": [],
   "source": [
    "eng_stopwords = stopwords.words('english') "
   ]
  },
  {
   "cell_type": "code",
   "execution_count": 8,
   "metadata": {},
   "outputs": [],
   "source": [
    "princess_tknzls = word_tokenize(nopunct_str)\n",
    "clean_tknzls = []\n",
    "\n",
    "for token in princess_tknzls:\n",
    "    \n",
    "    #if the token is a stopword, skip it\n",
    "    if token in eng_stopwords: pass\n",
    "    \n",
    "    #otherwise, add the token to the clean_tknz list\n",
    "    else:\n",
    "        clean_tknzls.append(token)"
   ]
  },
  {
   "cell_type": "code",
   "execution_count": 9,
   "metadata": {},
   "outputs": [
    {
     "data": {
      "text/plain": [
       "[('soldier', 19),\n",
       " ('princesses', 17),\n",
       " ('said', 16),\n",
       " ('king', 13),\n",
       " ('twelve', 11),\n",
       " ('went', 11),\n",
       " ('came', 10),\n",
       " ('eldest', 10),\n",
       " ('one', 7),\n",
       " ('night', 7)]"
      ]
     },
     "execution_count": 9,
     "metadata": {},
     "output_type": "execute_result"
    }
   ],
   "source": [
    "tknz_freq = FreqDist(clean_tknzls)\n",
    "\n",
    "#top 10 words in the text\n",
    "tknz_freq.most_common(10)"
   ]
  }
 ],
 "metadata": {
  "kernelspec": {
   "display_name": "Python 3",
   "language": "python",
   "name": "python3"
  },
  "language_info": {
   "codemirror_mode": {
    "name": "ipython",
    "version": 3
   },
   "file_extension": ".py",
   "mimetype": "text/x-python",
   "name": "python",
   "nbconvert_exporter": "python",
   "pygments_lexer": "ipython3",
   "version": "3.7.4"
  }
 },
 "nbformat": 4,
 "nbformat_minor": 2
}
